{
 "cells": [
  {
   "cell_type": "code",
   "execution_count": 1,
   "id": "88801a89",
   "metadata": {},
   "outputs": [],
   "source": [
    "import pandas as pd\n",
    "import numpy as np\n",
    "from scipy import stats"
   ]
  },
  {
   "cell_type": "code",
   "execution_count": 2,
   "id": "4b898079",
   "metadata": {},
   "outputs": [],
   "source": [
    "data = pd.read_csv('USVideos.csv')"
   ]
  },
  {
   "cell_type": "markdown",
   "id": "365dd857",
   "metadata": {},
   "source": [
    "## Data Struture"
   ]
  },
  {
   "cell_type": "code",
   "execution_count": 3,
   "id": "1b2c4cb7",
   "metadata": {},
   "outputs": [
    {
     "name": "stdout",
     "output_type": "stream",
     "text": [
      "(40949, 16)\n",
      "video_id                  object\n",
      "trending_date             object\n",
      "title                     object\n",
      "channel_title             object\n",
      "category_id                int64\n",
      "publish_time              object\n",
      "tags                      object\n",
      "views                      int64\n",
      "likes                      int64\n",
      "dislikes                   int64\n",
      "comment_count              int64\n",
      "thumbnail_link            object\n",
      "comments_disabled           bool\n",
      "ratings_disabled            bool\n",
      "video_error_or_removed      bool\n",
      "description               object\n",
      "dtype: object\n",
      "['video_id' 'trending_date' 'title' 'channel_title' 'category_id'\n",
      " 'publish_time' 'tags' 'views' 'likes' 'dislikes' 'comment_count'\n",
      " 'thumbnail_link' 'comments_disabled' 'ratings_disabled'\n",
      " 'video_error_or_removed' 'description']\n"
     ]
    }
   ],
   "source": [
    "print(data.shape)\n",
    "print(data.dtypes)\n",
    "print(data.columns.values)"
   ]
  },
  {
   "cell_type": "code",
   "execution_count": 4,
   "id": "fcf38352",
   "metadata": {},
   "outputs": [
    {
     "name": "stdout",
     "output_type": "stream",
     "text": [
      "<class 'pandas.core.frame.DataFrame'>\n",
      "RangeIndex: 40949 entries, 0 to 40948\n",
      "Data columns (total 16 columns):\n",
      " #   Column                  Non-Null Count  Dtype \n",
      "---  ------                  --------------  ----- \n",
      " 0   video_id                40949 non-null  object\n",
      " 1   trending_date           40949 non-null  object\n",
      " 2   title                   40949 non-null  object\n",
      " 3   channel_title           40949 non-null  object\n",
      " 4   category_id             40949 non-null  int64 \n",
      " 5   publish_time            40949 non-null  object\n",
      " 6   tags                    40949 non-null  object\n",
      " 7   views                   40949 non-null  int64 \n",
      " 8   likes                   40949 non-null  int64 \n",
      " 9   dislikes                40949 non-null  int64 \n",
      " 10  comment_count           40949 non-null  int64 \n",
      " 11  thumbnail_link          40949 non-null  object\n",
      " 12  comments_disabled       40949 non-null  bool  \n",
      " 13  ratings_disabled        40949 non-null  bool  \n",
      " 14  video_error_or_removed  40949 non-null  bool  \n",
      " 15  description             40379 non-null  object\n",
      "dtypes: bool(3), int64(5), object(8)\n",
      "memory usage: 4.2+ MB\n"
     ]
    }
   ],
   "source": [
    "data.info()"
   ]
  },
  {
   "cell_type": "code",
   "execution_count": 5,
   "id": "61362441",
   "metadata": {},
   "outputs": [
    {
     "data": {
      "text/html": [
       "<div>\n",
       "<style scoped>\n",
       "    .dataframe tbody tr th:only-of-type {\n",
       "        vertical-align: middle;\n",
       "    }\n",
       "\n",
       "    .dataframe tbody tr th {\n",
       "        vertical-align: top;\n",
       "    }\n",
       "\n",
       "    .dataframe thead th {\n",
       "        text-align: right;\n",
       "    }\n",
       "</style>\n",
       "<table border=\"1\" class=\"dataframe\">\n",
       "  <thead>\n",
       "    <tr style=\"text-align: right;\">\n",
       "      <th></th>\n",
       "      <th>channel_title</th>\n",
       "      <th>publish_time</th>\n",
       "      <th>tags</th>\n",
       "    </tr>\n",
       "  </thead>\n",
       "  <tbody>\n",
       "    <tr>\n",
       "      <th>count</th>\n",
       "      <td>40949</td>\n",
       "      <td>40949</td>\n",
       "      <td>40949</td>\n",
       "    </tr>\n",
       "    <tr>\n",
       "      <th>unique</th>\n",
       "      <td>2207</td>\n",
       "      <td>6269</td>\n",
       "      <td>6055</td>\n",
       "    </tr>\n",
       "    <tr>\n",
       "      <th>top</th>\n",
       "      <td>ESPN</td>\n",
       "      <td>2018-05-18T14:00:04.000Z</td>\n",
       "      <td>[none]</td>\n",
       "    </tr>\n",
       "    <tr>\n",
       "      <th>freq</th>\n",
       "      <td>203</td>\n",
       "      <td>50</td>\n",
       "      <td>1535</td>\n",
       "    </tr>\n",
       "  </tbody>\n",
       "</table>\n",
       "</div>"
      ],
      "text/plain": [
       "       channel_title              publish_time    tags\n",
       "count          40949                     40949   40949\n",
       "unique          2207                      6269    6055\n",
       "top             ESPN  2018-05-18T14:00:04.000Z  [none]\n",
       "freq             203                        50    1535"
      ]
     },
     "execution_count": 5,
     "metadata": {},
     "output_type": "execute_result"
    }
   ],
   "source": [
    "data.iloc[:,3:10].describe(include = 'object')"
   ]
  },
  {
   "cell_type": "markdown",
   "id": "a83d5d3b",
   "metadata": {},
   "source": [
    "## Miary położenia"
   ]
  },
  {
   "cell_type": "code",
   "execution_count": 6,
   "id": "a7d180bc",
   "metadata": {},
   "outputs": [],
   "source": [
    "# Badanie średniej liczby odttworzeń. Sprawdzenie różnicy pomiędzy dużymi, średnimi i małymi kanałami\n",
    "big = data[data['channel_title'].map(data['channel_title'].value_counts()) >= 70]\n",
    "medium = data[data['channel_title'].map(data['channel_title'].value_counts()).between(25,69)]\n",
    "small = data[data['channel_title'].map(data['channel_title'].value_counts()) < 25]"
   ]
  },
  {
   "cell_type": "code",
   "execution_count": 7,
   "id": "5e730bc5",
   "metadata": {},
   "outputs": [
    {
     "name": "stdout",
     "output_type": "stream",
     "text": [
      "14024 13003 13922\n"
     ]
    }
   ],
   "source": [
    "print(big.shape[0],medium.shape[0],small.shape[0])"
   ]
  },
  {
   "cell_type": "code",
   "execution_count": 8,
   "id": "81d15de3",
   "metadata": {},
   "outputs": [
    {
     "name": "stdout",
     "output_type": "stream",
     "text": [
      "Mean - standard\n",
      "Mean number of views for big channels is : 2,155,649.62\n",
      "Mean number of views for medium channels is : 3,362,240.11\n",
      "Mean number of views for small channels is : 1,632,073.82\n"
     ]
    }
   ],
   "source": [
    "print('Mean - standard')\n",
    "print(\"Mean number of views for big channels is : \"+\"{:,.2f}\".format(big['views'].mean()))\n",
    "print(\"Mean number of views for medium channels is : \"+\"{:,.2f}\".format(medium['views'].mean()))\n",
    "print(\"Mean number of views for small channels is : \"+\"{:,.2f}\".format(small['views'].mean()))"
   ]
  },
  {
   "cell_type": "code",
   "execution_count": 9,
   "id": "feabf3c7",
   "metadata": {},
   "outputs": [
    {
     "name": "stdout",
     "output_type": "stream",
     "text": [
      "Trimmed mean - we are trimming 10% of biggest and lowest observations and then we calculate the mean\n",
      "Mean number of views for big channels is : 1,221,430.48\n",
      "Mean number of views for medium channels is : 1,380,194.99\n",
      "Mean number of views for small channels is : 663,224.35\n"
     ]
    }
   ],
   "source": [
    "print('Trimmed mean - we are trimming 10% of biggest and lowest observations and then we calculate the mean')\n",
    "print(\"Mean number of views for big channels is : \"+\"{:,.2f}\".format(stats.trim_mean(big['views'],0.1)))\n",
    "print(\"Mean number of views for medium channels is : \"+\"{:,.2f}\".format(stats.trim_mean(medium['views'],0.1)))\n",
    "print(\"Mean number of views for small channels is : \"+\"{:,.2f}\".format(stats.trim_mean(small['views'],0.1)))"
   ]
  },
  {
   "cell_type": "code",
   "execution_count": 10,
   "id": "06d4c0ab",
   "metadata": {},
   "outputs": [
    {
     "name": "stdout",
     "output_type": "stream",
     "text": [
      "Median\n",
      "Mean number of views for big channels is : 943,212.50\n",
      "Mean number of views for medium channels is : 775,185.00\n",
      "Mean number of views for small channels is : 371,800.00\n"
     ]
    }
   ],
   "source": [
    "print('Median')\n",
    "print(\"Mean number of views for big channels is : \"+\"{:,.2f}\".format(big['views'].median()))\n",
    "print(\"Mean number of views for medium channels is : \"+\"{:,.2f}\".format(medium['views'].median()))\n",
    "print(\"Mean number of views for small channels is : \"+\"{:,.2f}\".format(small['views'].median()))"
   ]
  },
  {
   "cell_type": "markdown",
   "id": "4455f194",
   "metadata": {},
   "source": [
    "## Miary rozproszenia"
   ]
  },
  {
   "cell_type": "code",
   "execution_count": 11,
   "id": "00674a09",
   "metadata": {},
   "outputs": [
    {
     "name": "stdout",
     "output_type": "stream",
     "text": [
      "Standard deviation\n",
      "Mean number of views for big channels is : 5,279,118.04\n",
      "Mean number of views for medium channels is : 10,334,754.39\n",
      "Mean number of views for small channels is : 5,610,543.76\n"
     ]
    }
   ],
   "source": [
    "print('Standard deviation')\n",
    "print(\"Mean number of views for big channels is : \"+\"{:,.2f}\".format(big['views'].std()))\n",
    "print(\"Mean number of views for medium channels is : \"+\"{:,.2f}\".format(medium['views'].std()))\n",
    "print(\"Mean number of views for small channels is : \"+\"{:,.2f}\".format(small['views'].std()))"
   ]
  },
  {
   "cell_type": "code",
   "execution_count": 12,
   "id": "889a5057",
   "metadata": {},
   "outputs": [
    {
     "name": "stdout",
     "output_type": "stream",
     "text": [
      "IQR\n",
      "Mean number of views for big channels is : 1,600,179.25\n",
      "Mean number of views for medium channels is : 2,107,649.50\n",
      "Mean number of views for small channels is : 1,061,029.75\n"
     ]
    }
   ],
   "source": [
    "print('IQR')\n",
    "print(\"Mean number of views for big channels is : \"+\"{:,.2f}\".format(big['views'].quantile(0.75) - big['views'].quantile(0.25)))\n",
    "print(\"Mean number of views for medium channels is : \"+\"{:,.2f}\".format(medium['views'].quantile(0.75) - medium['views'].quantile(0.25)))\n",
    "print(\"Mean number of views for small channels is : \"+\"{:,.2f}\".format(small['views'].quantile(0.75) - small['views'].quantile(0.25)))"
   ]
  },
  {
   "cell_type": "code",
   "execution_count": 13,
   "id": "2a7f0a88",
   "metadata": {},
   "outputs": [
    {
     "name": "stdout",
     "output_type": "stream",
     "text": [
      "Median Absolute Deviation - MAD\n",
      "Outliers-robust method\n",
      "Mean number of views for big channels is : 960,311.85\n",
      "Mean number of views for medium channels is : 903,641.60\n",
      "Mean number of views for small channels is : 478,858.28\n"
     ]
    }
   ],
   "source": [
    "from statsmodels import robust\n",
    "print('Median Absolute Deviation - MAD')\n",
    "print('Outliers-robust method')\n",
    "print(\"Mean number of views for big channels is : \"+\"{:,.2f}\".format(robust.scale.mad(big['views'])))\n",
    "print(\"Mean number of views for medium channels is : \"+\"{:,.2f}\".format(robust.scale.mad(medium['views'])))\n",
    "print(\"Mean number of views for small channels is : \"+\"{:,.2f}\".format(robust.scale.mad(small['views'])))"
   ]
  },
  {
   "cell_type": "markdown",
   "id": "46280c84",
   "metadata": {},
   "source": [
    "## Boxplots & Histograms"
   ]
  },
  {
   "cell_type": "code",
   "execution_count": 14,
   "id": "ea3983dc",
   "metadata": {},
   "outputs": [
    {
     "data": {
      "image/png": "[encoded data removed]",
      "text/plain": [
       "<Figure size 720x720 with 1 Axes>"
      ]
     },
     "metadata": {
      "needs_background": "light"
     },
     "output_type": "display_data"
    }
   ],
   "source": [
    "import matplotlib.pyplot as plt\n",
    "\n",
    "fig = plt.figure(figsize =(10, 10))\n",
    "plt.boxplot(medium['comment_count'])\n",
    "plt.show();"
   ]
  },
  {
   "cell_type": "code",
   "execution_count": 15,
   "id": "dc0e9079",
   "metadata": {},
   "outputs": [
    {
     "data": {
      "image/png": "[encoded data removed]",
      "text/plain": [
       "<Figure size 432x288 with 1 Axes>"
      ]
     },
     "metadata": {
      "needs_background": "light"
     },
     "output_type": "display_data"
    }
   ],
   "source": [
    "plt.hist(small['views'],bins = 10,color = 'orange',orientation='vertical');"
   ]
  },
  {
   "cell_type": "markdown",
   "id": "ac5cf274",
   "metadata": {},
   "source": [
    "## Bar chart"
   ]
  },
  {
   "cell_type": "code",
   "execution_count": 32,
   "id": "33413267",
   "metadata": {},
   "outputs": [
    {
     "data": {
      "image/png": "[encoded data removed]",
      "text/plain": [
       "<Figure size 864x864 with 1 Axes>"
      ]
     },
     "metadata": {
      "needs_background": "light"
     },
     "output_type": "display_data"
    }
   ],
   "source": [
    "channels = pd.DataFrame(data['channel_title'].value_counts()[0:20])\n",
    "fig = plt.figure(figsize =(12, 12))\n",
    "plt.barh(channels.index.values,channels.channel_title)\n",
    "plt.xticks(rotation=90,size= 10)\n",
    "plt.show()"
   ]
  },
  {
   "cell_type": "markdown",
   "id": "23f3f118",
   "metadata": {},
   "source": [
    "## Korelacja"
   ]
  },
  {
   "cell_type": "code",
   "execution_count": 17,
   "id": "9162e094",
   "metadata": {},
   "outputs": [],
   "source": [
    "fifa = pd.read_csv('fifa22.csv')"
   ]
  },
  {
   "cell_type": "code",
   "execution_count": 18,
   "id": "851743c8",
   "metadata": {},
   "outputs": [],
   "source": [
    "fifa.drop(labels = ['club_jersey_number', 'club_loaned_from','nation_team_id', 'nation_position', 'nation_jersey_number',\n",
    "       'league_name', 'league_level', 'club_position','ls', 'st', 'rs', 'lw', 'lf', 'cf', 'rf',\n",
    "       'rw', 'lam', 'cam', 'ram', 'lm', 'lcm', 'cm', 'rcm', 'rm', 'lwb', 'nationality_id', 'club_joined',\n",
    "       'ldm', 'cdm', 'rdm', 'rwb', 'lb', 'lcb', 'cb', 'rcb', 'rb', 'gk', 'dob', 'club_team_id', 'real_face',\n",
    "       'sofifa_id', 'player_url','player_face_url', 'club_logo_url', 'club_flag_url', 'player_tags','player_traits',\n",
    "       'nation_logo_url', 'nation_flag_url','international_reputation'],axis = 1,inplace = True)"
   ]
  },
  {
   "cell_type": "code",
   "execution_count": 19,
   "id": "dda42090",
   "metadata": {},
   "outputs": [
    {
     "name": "stdout",
     "output_type": "stream",
     "text": [
      "<class 'pandas.core.frame.DataFrame'>\n",
      "RangeIndex: 19239 entries, 0 to 19238\n",
      "Data columns (total 61 columns):\n",
      " #   Column                       Non-Null Count  Dtype  \n",
      "---  ------                       --------------  -----  \n",
      " 0   short_name                   19239 non-null  object \n",
      " 1   long_name                    19239 non-null  object \n",
      " 2   player_positions             19239 non-null  object \n",
      " 3   overall                      19239 non-null  int64  \n",
      " 4   potential                    19239 non-null  int64  \n",
      " 5   value_eur                    19165 non-null  float64\n",
      " 6   wage_eur                     19178 non-null  float64\n",
      " 7   age                          19239 non-null  int64  \n",
      " 8   height_cm                    19239 non-null  int64  \n",
      " 9   weight_kg                    19239 non-null  int64  \n",
      " 10  club_name                    19178 non-null  object \n",
      " 11  club_contract_valid_until    19178 non-null  float64\n",
      " 12  nationality_name             19239 non-null  object \n",
      " 13  preferred_foot               19239 non-null  object \n",
      " 14  weak_foot                    19239 non-null  int64  \n",
      " 15  skill_moves                  19239 non-null  int64  \n",
      " 16  work_rate                    19239 non-null  object \n",
      " 17  body_type                    19239 non-null  object \n",
      " 18  real_face                    19239 non-null  object \n",
      " 19  release_clause_eur           18063 non-null  float64\n",
      " 20  pace                         17107 non-null  float64\n",
      " 21  shooting                     17107 non-null  float64\n",
      " 22  passing                      17107 non-null  float64\n",
      " 23  dribbling                    17107 non-null  float64\n",
      " 24  defending                    17107 non-null  float64\n",
      " 25  physic                       17107 non-null  float64\n",
      " 26  attacking_crossing           19239 non-null  int64  \n",
      " 27  attacking_finishing          19239 non-null  int64  \n",
      " 28  attacking_heading_accuracy   19239 non-null  int64  \n",
      " 29  attacking_short_passing      19239 non-null  int64  \n",
      " 30  attacking_volleys            19239 non-null  int64  \n",
      " 31  skill_dribbling              19239 non-null  int64  \n",
      " 32  skill_curve                  19239 non-null  int64  \n",
      " 33  skill_fk_accuracy            19239 non-null  int64  \n",
      " 34  skill_long_passing           19239 non-null  int64  \n",
      " 35  skill_ball_control           19239 non-null  int64  \n",
      " 36  movement_acceleration        19239 non-null  int64  \n",
      " 37  movement_sprint_speed        19239 non-null  int64  \n",
      " 38  movement_agility             19239 non-null  int64  \n",
      " 39  movement_reactions           19239 non-null  int64  \n",
      " 40  movement_balance             19239 non-null  int64  \n",
      " 41  power_shot_power             19239 non-null  int64  \n",
      " 42  power_jumping                19239 non-null  int64  \n",
      " 43  power_stamina                19239 non-null  int64  \n",
      " 44  power_strength               19239 non-null  int64  \n",
      " 45  power_long_shots             19239 non-null  int64  \n",
      " 46  mentality_aggression         19239 non-null  int64  \n",
      " 47  mentality_interceptions      19239 non-null  int64  \n",
      " 48  mentality_positioning        19239 non-null  int64  \n",
      " 49  mentality_vision             19239 non-null  int64  \n",
      " 50  mentality_penalties          19239 non-null  int64  \n",
      " 51  mentality_composure          19239 non-null  int64  \n",
      " 52  defending_marking_awareness  19239 non-null  int64  \n",
      " 53  defending_standing_tackle    19239 non-null  int64  \n",
      " 54  defending_sliding_tackle     19239 non-null  int64  \n",
      " 55  goalkeeping_diving           19239 non-null  int64  \n",
      " 56  goalkeeping_handling         19239 non-null  int64  \n",
      " 57  goalkeeping_kicking          19239 non-null  int64  \n",
      " 58  goalkeeping_positioning      19239 non-null  int64  \n",
      " 59  goalkeeping_reflexes         19239 non-null  int64  \n",
      " 60  goalkeeping_speed            2132 non-null   float64\n",
      "dtypes: float64(11), int64(41), object(9)\n",
      "memory usage: 9.0+ MB\n"
     ]
    }
   ],
   "source": [
    "fifa.info()"
   ]
  },
  {
   "cell_type": "code",
   "execution_count": 50,
   "id": "486fab4a",
   "metadata": {},
   "outputs": [],
   "source": [
    "import seaborn as sns\n",
    "spain = fifa.loc[(fifa.nationality_name == 'Spain') & (fifa['player_positions'].str.contains('CM'))]\n",
    "poland = fifa.loc[(fifa.nationality_name == 'Poland')]"
   ]
  },
  {
   "cell_type": "code",
   "execution_count": 37,
   "id": "f585c2e1",
   "metadata": {},
   "outputs": [
    {
     "data": {
      "image/png": "[encoded data removed]",
      "text/plain": [
       "<Figure size 432x288 with 2 Axes>"
      ]
     },
     "metadata": {
      "needs_background": "light"
     },
     "output_type": "display_data"
    }
   ],
   "source": [
    "sns.heatmap(spain.loc[:,['overall','release_clause_eur','age','passing']].corr(),vmin = -1,vmax = 1,\n",
    "           cmap=sns.diverging_palette(20,220,as_cmap=True));\n"
   ]
  },
  {
   "cell_type": "code",
   "execution_count": 48,
   "id": "f44b232b",
   "metadata": {},
   "outputs": [
    {
     "data": {
      "image/png": "[encoded data removed]",
      "text/plain": [
       "<Figure size 432x288 with 1 Axes>"
      ]
     },
     "metadata": {
      "needs_background": "light"
     },
     "output_type": "display_data"
    }
   ],
   "source": [
    "import matplotlib.pyplot as plt\n",
    "plt.scatter(x = spain.overall, y = spain.age, c= '#e2ff24')\n",
    "plt.title('FIFA 2022 Overall on Age', fontsize=18, y=1.03 ,c = 'red')\n",
    "plt.xlabel(\"FIFA 2022 Overall\", fontsize=14, labelpad=15, c = 'red')\n",
    "plt.ylabel(\"Player Age\", fontsize=14, labelpad=15, c = 'red');"
   ]
  },
  {
   "cell_type": "markdown",
   "id": "9dc37f36",
   "metadata": {},
   "source": [
    "## Badanie dwóch lub więcej zmiennych"
   ]
  },
  {
   "cell_type": "code",
   "execution_count": 57,
   "id": "c50a6cd3",
   "metadata": {},
   "outputs": [
    {
     "data": {
      "image/png": "[encoded data removed]",
      "text/plain": [
       "<Figure size 432x288 with 1 Axes>"
      ]
     },
     "metadata": {
      "needs_background": "light"
     },
     "output_type": "display_data"
    }
   ],
   "source": [
    "#DWIE ZMIENNE NUMERYCZNE\n",
    "#Heksagonalny wykres - dobry na przedstawienie zależności między danymi dla zbior uposiadającego mnóstwo obserwacji\n",
    "plt.hexbin(fifa.age, fifa.overall, gridsize = 15, cmap ='BuGn') \n",
    "plt.ylabel(\"FIFA 2022 Overall\", fontsize=14, labelpad=15)\n",
    "plt.xlabel(\"Player Age\", fontsize=14, labelpad=15);"
   ]
  },
  {
   "cell_type": "code",
   "execution_count": 59,
   "id": "5fadc47a",
   "metadata": {},
   "outputs": [
    {
     "data": {
      "text/html": [
       "<div>\n",
       "<style scoped>\n",
       "    .dataframe tbody tr th:only-of-type {\n",
       "        vertical-align: middle;\n",
       "    }\n",
       "\n",
       "    .dataframe tbody tr th {\n",
       "        vertical-align: top;\n",
       "    }\n",
       "\n",
       "    .dataframe thead th {\n",
       "        text-align: right;\n",
       "    }\n",
       "</style>\n",
       "<table border=\"1\" class=\"dataframe\">\n",
       "  <thead>\n",
       "    <tr style=\"text-align: right;\">\n",
       "      <th>work_rate</th>\n",
       "      <th>High/High</th>\n",
       "      <th>High/Low</th>\n",
       "      <th>High/Medium</th>\n",
       "      <th>Low/High</th>\n",
       "      <th>Low/Medium</th>\n",
       "      <th>Medium/High</th>\n",
       "      <th>Medium/Low</th>\n",
       "      <th>Medium/Medium</th>\n",
       "      <th>All</th>\n",
       "    </tr>\n",
       "    <tr>\n",
       "      <th>body_type</th>\n",
       "      <th></th>\n",
       "      <th></th>\n",
       "      <th></th>\n",
       "      <th></th>\n",
       "      <th></th>\n",
       "      <th></th>\n",
       "      <th></th>\n",
       "      <th></th>\n",
       "      <th></th>\n",
       "    </tr>\n",
       "  </thead>\n",
       "  <tbody>\n",
       "    <tr>\n",
       "      <th>Lean (170-)</th>\n",
       "      <td>2</td>\n",
       "      <td>0</td>\n",
       "      <td>2</td>\n",
       "      <td>0</td>\n",
       "      <td>0</td>\n",
       "      <td>0</td>\n",
       "      <td>0</td>\n",
       "      <td>0</td>\n",
       "      <td>4</td>\n",
       "    </tr>\n",
       "    <tr>\n",
       "      <th>Lean (170-185)</th>\n",
       "      <td>6</td>\n",
       "      <td>3</td>\n",
       "      <td>19</td>\n",
       "      <td>0</td>\n",
       "      <td>0</td>\n",
       "      <td>7</td>\n",
       "      <td>9</td>\n",
       "      <td>29</td>\n",
       "      <td>73</td>\n",
       "    </tr>\n",
       "    <tr>\n",
       "      <th>Lean (185+)</th>\n",
       "      <td>2</td>\n",
       "      <td>0</td>\n",
       "      <td>4</td>\n",
       "      <td>1</td>\n",
       "      <td>1</td>\n",
       "      <td>7</td>\n",
       "      <td>3</td>\n",
       "      <td>45</td>\n",
       "      <td>63</td>\n",
       "    </tr>\n",
       "    <tr>\n",
       "      <th>Normal (170-)</th>\n",
       "      <td>1</td>\n",
       "      <td>0</td>\n",
       "      <td>2</td>\n",
       "      <td>0</td>\n",
       "      <td>0</td>\n",
       "      <td>0</td>\n",
       "      <td>0</td>\n",
       "      <td>1</td>\n",
       "      <td>4</td>\n",
       "    </tr>\n",
       "    <tr>\n",
       "      <th>Normal (170-185)</th>\n",
       "      <td>8</td>\n",
       "      <td>7</td>\n",
       "      <td>26</td>\n",
       "      <td>3</td>\n",
       "      <td>2</td>\n",
       "      <td>16</td>\n",
       "      <td>6</td>\n",
       "      <td>66</td>\n",
       "      <td>134</td>\n",
       "    </tr>\n",
       "    <tr>\n",
       "      <th>Normal (185+)</th>\n",
       "      <td>3</td>\n",
       "      <td>0</td>\n",
       "      <td>10</td>\n",
       "      <td>3</td>\n",
       "      <td>1</td>\n",
       "      <td>12</td>\n",
       "      <td>2</td>\n",
       "      <td>82</td>\n",
       "      <td>113</td>\n",
       "    </tr>\n",
       "    <tr>\n",
       "      <th>Stocky (170-)</th>\n",
       "      <td>0</td>\n",
       "      <td>0</td>\n",
       "      <td>1</td>\n",
       "      <td>0</td>\n",
       "      <td>0</td>\n",
       "      <td>0</td>\n",
       "      <td>0</td>\n",
       "      <td>0</td>\n",
       "      <td>1</td>\n",
       "    </tr>\n",
       "    <tr>\n",
       "      <th>Stocky (170-185)</th>\n",
       "      <td>1</td>\n",
       "      <td>0</td>\n",
       "      <td>1</td>\n",
       "      <td>0</td>\n",
       "      <td>0</td>\n",
       "      <td>3</td>\n",
       "      <td>0</td>\n",
       "      <td>1</td>\n",
       "      <td>6</td>\n",
       "    </tr>\n",
       "    <tr>\n",
       "      <th>Stocky (185+)</th>\n",
       "      <td>0</td>\n",
       "      <td>0</td>\n",
       "      <td>0</td>\n",
       "      <td>0</td>\n",
       "      <td>1</td>\n",
       "      <td>1</td>\n",
       "      <td>0</td>\n",
       "      <td>2</td>\n",
       "      <td>4</td>\n",
       "    </tr>\n",
       "    <tr>\n",
       "      <th>Unique</th>\n",
       "      <td>0</td>\n",
       "      <td>0</td>\n",
       "      <td>1</td>\n",
       "      <td>0</td>\n",
       "      <td>0</td>\n",
       "      <td>0</td>\n",
       "      <td>0</td>\n",
       "      <td>0</td>\n",
       "      <td>1</td>\n",
       "    </tr>\n",
       "    <tr>\n",
       "      <th>All</th>\n",
       "      <td>23</td>\n",
       "      <td>10</td>\n",
       "      <td>66</td>\n",
       "      <td>7</td>\n",
       "      <td>5</td>\n",
       "      <td>46</td>\n",
       "      <td>20</td>\n",
       "      <td>226</td>\n",
       "      <td>403</td>\n",
       "    </tr>\n",
       "  </tbody>\n",
       "</table>\n",
       "</div>"
      ],
      "text/plain": [
       "work_rate         High/High  High/Low  High/Medium  Low/High  Low/Medium  \\\n",
       "body_type                                                                  \n",
       "Lean (170-)               2         0            2         0           0   \n",
       "Lean (170-185)            6         3           19         0           0   \n",
       "Lean (185+)               2         0            4         1           1   \n",
       "Normal (170-)             1         0            2         0           0   \n",
       "Normal (170-185)          8         7           26         3           2   \n",
       "Normal (185+)             3         0           10         3           1   \n",
       "Stocky (170-)             0         0            1         0           0   \n",
       "Stocky (170-185)          1         0            1         0           0   \n",
       "Stocky (185+)             0         0            0         0           1   \n",
       "Unique                    0         0            1         0           0   \n",
       "All                      23        10           66         7           5   \n",
       "\n",
       "work_rate         Medium/High  Medium/Low  Medium/Medium  All  \n",
       "body_type                                                      \n",
       "Lean (170-)                 0           0              0    4  \n",
       "Lean (170-185)              7           9             29   73  \n",
       "Lean (185+)                 7           3             45   63  \n",
       "Normal (170-)               0           0              1    4  \n",
       "Normal (170-185)           16           6             66  134  \n",
       "Normal (185+)              12           2             82  113  \n",
       "Stocky (170-)               0           0              0    1  \n",
       "Stocky (170-185)            3           0              1    6  \n",
       "Stocky (185+)               1           0              2    4  \n",
       "Unique                      0           0              0    1  \n",
       "All                        46          20            226  403  "
      ]
     },
     "execution_count": 59,
     "metadata": {},
     "output_type": "execute_result"
    }
   ],
   "source": [
    "#DWIE ZMIENNE KATEGORIALNE\n",
    "#tablica kontyngencji - liczność według kategorii \n",
    "pd.crosstab(poland.body_type,poland.work_rate,margins = True)"
   ]
  },
  {
   "cell_type": "code",
   "execution_count": 90,
   "id": "9c7bae9f",
   "metadata": {},
   "outputs": [
    {
     "data": {
      "image/png": "[encoded data removed]",
      "text/plain": [
       "<Figure size 432x288 with 1 Axes>"
      ]
     },
     "metadata": {
      "needs_background": "light"
     },
     "output_type": "display_data"
    }
   ],
   "source": [
    "#ZMIENNA KATEGORIALNA I NUMERYCZNA\n",
    "#boxplot\n",
    "top3 = fifa[fifa.club_name.isin(['Real Madrid CF','Atlético de Madrid','FC Barcelona'])]\n",
    "fig = sns.boxplot(data=top3, x='club_name', y='mentality_aggression',palette=['red','blue','white'])\n",
    "fig.set_xlabel(\"CLUB\")\n",
    "fig.set_ylabel(\"MENTALITY AGGRESSION\");"
   ]
  },
  {
   "cell_type": "code",
   "execution_count": 107,
   "id": "901fa2a7",
   "metadata": {},
   "outputs": [
    {
     "data": {
      "text/plain": [
       "<seaborn.axisgrid.FacetGrid at 0x1ecf3720580>"
      ]
     },
     "execution_count": 107,
     "metadata": {},
     "output_type": "execute_result"
    },
    {
     "data": {
      "image/png": "[encoded data removed]",
      "text/plain": [
       "<Figure size 432x216 with 2 Axes>"
      ]
     },
     "metadata": {
      "needs_background": "light"
     },
     "output_type": "display_data"
    }
   ],
   "source": [
    "#WIZUALIZACJA WIELU ZMIENNYCH - FACETY\n",
    "ptes = fifa[fifa.nationality_name.isin(['Portugal','Poland'])]\n",
    "g = sns.FacetGrid(ptes, col=\"nationality_name\")\n",
    "g.map_dataframe(sns.scatterplot, x=\"potential\", y=\"value_eur\")"
   ]
  }
 ],
 "metadata": {
  "kernelspec": {
   "display_name": "Python 3",
   "language": "python",
   "name": "python3"
  },
  "language_info": {
   "codemirror_mode": {
    "name": "ipython",
    "version": 3
   },
   "file_extension": ".py",
   "mimetype": "text/x-python",
   "name": "python",
   "nbconvert_exporter": "python",
   "pygments_lexer": "ipython3",
   "version": "3.8.8"
  }
 },
 "nbformat": 4,
 "nbformat_minor": 5
}
