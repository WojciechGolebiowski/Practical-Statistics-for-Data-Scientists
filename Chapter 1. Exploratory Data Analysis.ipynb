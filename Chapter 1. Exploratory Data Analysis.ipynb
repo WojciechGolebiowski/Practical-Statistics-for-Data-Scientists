{
 "cells": [
  {
   "cell_type": "code",
   "execution_count": 1,
   "id": "88801a89",
   "metadata": {},
   "outputs": [],
   "source": [
    "import pandas as pd\n",
    "import numpy as np\n",
    "from scipy import stats"
   ]
  },
  {
   "cell_type": "code",
   "execution_count": 2,
   "id": "4b898079",
   "metadata": {},
   "outputs": [],
   "source": [
    "data = pd.read_csv('USVideos.csv')"
   ]
  },
  {
   "cell_type": "markdown",
   "id": "365dd857",
   "metadata": {},
   "source": [
    "## Data Struture"
   ]
  },
  {
   "cell_type": "code",
   "execution_count": 3,
   "id": "1b2c4cb7",
   "metadata": {},
   "outputs": [
    {
     "name": "stdout",
     "output_type": "stream",
     "text": [
      "(40949, 16)\n",
      "video_id                  object\n",
      "trending_date             object\n",
      "title                     object\n",
      "channel_title             object\n",
      "category_id                int64\n",
      "publish_time              object\n",
      "tags                      object\n",
      "views                      int64\n",
      "likes                      int64\n",
      "dislikes                   int64\n",
      "comment_count              int64\n",
      "thumbnail_link            object\n",
      "comments_disabled           bool\n",
      "ratings_disabled            bool\n",
      "video_error_or_removed      bool\n",
      "description               object\n",
      "dtype: object\n",
      "['video_id' 'trending_date' 'title' 'channel_title' 'category_id'\n",
      " 'publish_time' 'tags' 'views' 'likes' 'dislikes' 'comment_count'\n",
      " 'thumbnail_link' 'comments_disabled' 'ratings_disabled'\n",
      " 'video_error_or_removed' 'description']\n"
     ]
    }
   ],
   "source": [
    "print(data.shape)\n",
    "print(data.dtypes)\n",
    "print(data.columns.values)"
   ]
  },
  {
   "cell_type": "code",
   "execution_count": 4,
   "id": "fcf38352",
   "metadata": {},
   "outputs": [
    {
     "name": "stdout",
     "output_type": "stream",
     "text": [
      "<class 'pandas.core.frame.DataFrame'>\n",
      "RangeIndex: 40949 entries, 0 to 40948\n",
      "Data columns (total 16 columns):\n",
      " #   Column                  Non-Null Count  Dtype \n",
      "---  ------                  --------------  ----- \n",
      " 0   video_id                40949 non-null  object\n",
      " 1   trending_date           40949 non-null  object\n",
      " 2   title                   40949 non-null  object\n",
      " 3   channel_title           40949 non-null  object\n",
      " 4   category_id             40949 non-null  int64 \n",
      " 5   publish_time            40949 non-null  object\n",
      " 6   tags                    40949 non-null  object\n",
      " 7   views                   40949 non-null  int64 \n",
      " 8   likes                   40949 non-null  int64 \n",
      " 9   dislikes                40949 non-null  int64 \n",
      " 10  comment_count           40949 non-null  int64 \n",
      " 11  thumbnail_link          40949 non-null  object\n",
      " 12  comments_disabled       40949 non-null  bool  \n",
      " 13  ratings_disabled        40949 non-null  bool  \n",
      " 14  video_error_or_removed  40949 non-null  bool  \n",
      " 15  description             40379 non-null  object\n",
      "dtypes: bool(3), int64(5), object(8)\n",
      "memory usage: 4.2+ MB\n"
     ]
    }
   ],
   "source": [
    "data.info()"
   ]
  },
  {
   "cell_type": "code",
   "execution_count": 5,
   "id": "61362441",
   "metadata": {},
   "outputs": [
    {
     "data": {
      "text/html": [
       "<div>\n",
       "<style scoped>\n",
       "    .dataframe tbody tr th:only-of-type {\n",
       "        vertical-align: middle;\n",
       "    }\n",
       "\n",
       "    .dataframe tbody tr th {\n",
       "        vertical-align: top;\n",
       "    }\n",
       "\n",
       "    .dataframe thead th {\n",
       "        text-align: right;\n",
       "    }\n",
       "</style>\n",
       "<table border=\"1\" class=\"dataframe\">\n",
       "  <thead>\n",
       "    <tr style=\"text-align: right;\">\n",
       "      <th></th>\n",
       "      <th>channel_title</th>\n",
       "      <th>publish_time</th>\n",
       "      <th>tags</th>\n",
       "    </tr>\n",
       "  </thead>\n",
       "  <tbody>\n",
       "    <tr>\n",
       "      <th>count</th>\n",
       "      <td>40949</td>\n",
       "      <td>40949</td>\n",
       "      <td>40949</td>\n",
       "    </tr>\n",
       "    <tr>\n",
       "      <th>unique</th>\n",
       "      <td>2207</td>\n",
       "      <td>6269</td>\n",
       "      <td>6055</td>\n",
       "    </tr>\n",
       "    <tr>\n",
       "      <th>top</th>\n",
       "      <td>ESPN</td>\n",
       "      <td>2018-05-18T14:00:04.000Z</td>\n",
       "      <td>[none]</td>\n",
       "    </tr>\n",
       "    <tr>\n",
       "      <th>freq</th>\n",
       "      <td>203</td>\n",
       "      <td>50</td>\n",
       "      <td>1535</td>\n",
       "    </tr>\n",
       "  </tbody>\n",
       "</table>\n",
       "</div>"
      ],
      "text/plain": [
       "       channel_title              publish_time    tags\n",
       "count          40949                     40949   40949\n",
       "unique          2207                      6269    6055\n",
       "top             ESPN  2018-05-18T14:00:04.000Z  [none]\n",
       "freq             203                        50    1535"
      ]
     },
     "execution_count": 5,
     "metadata": {},
     "output_type": "execute_result"
    }
   ],
   "source": [
    "data.iloc[:,3:10].describe(include = 'object')"
   ]
  },
  {
   "cell_type": "markdown",
   "id": "a83d5d3b",
   "metadata": {},
   "source": [
    "## Miary położenia"
   ]
  },
  {
   "cell_type": "code",
   "execution_count": 6,
   "id": "a7d180bc",
   "metadata": {},
   "outputs": [],
   "source": [
    "# Badanie średniej liczby odttworzeń. Sprawdzenie różnicy pomiędzy dużymi, średnimi i małymi kanałami\n",
    "big = data[data['channel_title'].map(data['channel_title'].value_counts()) >= 70]\n",
    "medium = data[data['channel_title'].map(data['channel_title'].value_counts()).between(25,69)]\n",
    "small = data[data['channel_title'].map(data['channel_title'].value_counts()) < 25]"
   ]
  },
  {
   "cell_type": "code",
   "execution_count": 7,
   "id": "5e730bc5",
   "metadata": {},
   "outputs": [
    {
     "name": "stdout",
     "output_type": "stream",
     "text": [
      "14024 13003 13922\n"
     ]
    }
   ],
   "source": [
    "print(big.shape[0],medium.shape[0],small.shape[0])"
   ]
  },
  {
   "cell_type": "code",
   "execution_count": 8,
   "id": "81d15de3",
   "metadata": {},
   "outputs": [
    {
     "name": "stdout",
     "output_type": "stream",
     "text": [
      "Mean - standard\n",
      "Mean number of views for big channels is : 2,155,649.62\n",
      "Mean number of views for medium channels is : 3,362,240.11\n",
      "Mean number of views for small channels is : 1,632,073.82\n"
     ]
    }
   ],
   "source": [
    "print('Mean - standard')\n",
    "print(\"Mean number of views for big channels is : \"+\"{:,.2f}\".format(big['views'].mean()))\n",
    "print(\"Mean number of views for medium channels is : \"+\"{:,.2f}\".format(medium['views'].mean()))\n",
    "print(\"Mean number of views for small channels is : \"+\"{:,.2f}\".format(small['views'].mean()))"
   ]
  },
  {
   "cell_type": "code",
   "execution_count": 9,
   "id": "feabf3c7",
   "metadata": {},
   "outputs": [
    {
     "name": "stdout",
     "output_type": "stream",
     "text": [
      "Trimmed mean - we are trimming 10% of biggest and lowest observations and then we calculate the mean\n",
      "Mean number of views for big channels is : 1,221,430.48\n",
      "Mean number of views for medium channels is : 1,380,194.99\n",
      "Mean number of views for small channels is : 663,224.35\n"
     ]
    }
   ],
   "source": [
    "print('Trimmed mean - we are trimming 10% of biggest and lowest observations and then we calculate the mean')\n",
    "print(\"Mean number of views for big channels is : \"+\"{:,.2f}\".format(stats.trim_mean(big['views'],0.1)))\n",
    "print(\"Mean number of views for medium channels is : \"+\"{:,.2f}\".format(stats.trim_mean(medium['views'],0.1)))\n",
    "print(\"Mean number of views for small channels is : \"+\"{:,.2f}\".format(stats.trim_mean(small['views'],0.1)))"
   ]
  },
  {
   "cell_type": "code",
   "execution_count": 10,
   "id": "06d4c0ab",
   "metadata": {},
   "outputs": [
    {
     "name": "stdout",
     "output_type": "stream",
     "text": [
      "Median\n",
      "Mean number of views for big channels is : 943,212.50\n",
      "Mean number of views for medium channels is : 775,185.00\n",
      "Mean number of views for small channels is : 371,800.00\n"
     ]
    }
   ],
   "source": [
    "print('Median')\n",
    "print(\"Mean number of views for big channels is : \"+\"{:,.2f}\".format(big['views'].median()))\n",
    "print(\"Mean number of views for medium channels is : \"+\"{:,.2f}\".format(medium['views'].median()))\n",
    "print(\"Mean number of views for small channels is : \"+\"{:,.2f}\".format(small['views'].median()))"
   ]
  },
  {
   "cell_type": "markdown",
   "id": "4455f194",
   "metadata": {},
   "source": [
    "## Miary rozproszenia"
   ]
  },
  {
   "cell_type": "code",
   "execution_count": 11,
   "id": "00674a09",
   "metadata": {},
   "outputs": [
    {
     "name": "stdout",
     "output_type": "stream",
     "text": [
      "Standard deviation\n",
      "Mean number of views for big channels is : 5,279,118.04\n",
      "Mean number of views for medium channels is : 10,334,754.39\n",
      "Mean number of views for small channels is : 5,610,543.76\n"
     ]
    }
   ],
   "source": [
    "print('Standard deviation')\n",
    "print(\"Mean number of views for big channels is : \"+\"{:,.2f}\".format(big['views'].std()))\n",
    "print(\"Mean number of views for medium channels is : \"+\"{:,.2f}\".format(medium['views'].std()))\n",
    "print(\"Mean number of views for small channels is : \"+\"{:,.2f}\".format(small['views'].std()))"
   ]
  },
  {
   "cell_type": "code",
   "execution_count": 12,
   "id": "889a5057",
   "metadata": {},
   "outputs": [
    {
     "name": "stdout",
     "output_type": "stream",
     "text": [
      "IQR\n",
      "Mean number of views for big channels is : 1,600,179.25\n",
      "Mean number of views for medium channels is : 2,107,649.50\n",
      "Mean number of views for small channels is : 1,061,029.75\n"
     ]
    }
   ],
   "source": [
    "print('IQR')\n",
    "print(\"Mean number of views for big channels is : \"+\"{:,.2f}\".format(big['views'].quantile(0.75) - big['views'].quantile(0.25)))\n",
    "print(\"Mean number of views for medium channels is : \"+\"{:,.2f}\".format(medium['views'].quantile(0.75) - medium['views'].quantile(0.25)))\n",
    "print(\"Mean number of views for small channels is : \"+\"{:,.2f}\".format(small['views'].quantile(0.75) - small['views'].quantile(0.25)))"
   ]
  },
  {
   "cell_type": "code",
   "execution_count": 13,
   "id": "2a7f0a88",
   "metadata": {},
   "outputs": [
    {
     "name": "stdout",
     "output_type": "stream",
     "text": [
      "Median Absolute Deviation - MAD\n",
      "Outliers-robust method\n",
      "Mean number of views for big channels is : 960,311.85\n",
      "Mean number of views for medium channels is : 903,641.60\n",
      "Mean number of views for small channels is : 478,858.28\n"
     ]
    }
   ],
   "source": [
    "from statsmodels import robust\n",
    "print('Median Absolute Deviation - MAD')\n",
    "print('Outliers-robust method')\n",
    "print(\"Mean number of views for big channels is : \"+\"{:,.2f}\".format(robust.scale.mad(big['views'])))\n",
    "print(\"Mean number of views for medium channels is : \"+\"{:,.2f}\".format(robust.scale.mad(medium['views'])))\n",
    "print(\"Mean number of views for small channels is : \"+\"{:,.2f}\".format(robust.scale.mad(small['views'])))"
   ]
  },
  {
   "cell_type": "markdown",
   "id": "46280c84",
   "metadata": {},
   "source": [
    "## Boxplots & Histograms"
   ]
  },
  {
   "cell_type": "code",
   "execution_count": 14,
   "id": "ea3983dc",
   "metadata": {},
   "outputs": [
    {
     "data": {
      "image/png": "[encoded data removed]",
      "text/plain": [
       "<Figure size 720x720 with 1 Axes>"
      ]
     },
     "metadata": {
      "needs_background": "light"
     },
     "output_type": "display_data"
    }
   ],
   "source": [
    "import matplotlib.pyplot as plt\n",
    "\n",
    "fig = plt.figure(figsize =(10, 10))\n",
    "plt.boxplot(medium['comment_count'])\n",
    "plt.show();"
   ]
  },
  {
   "cell_type": "code",
   "execution_count": 15,
   "id": "dc0e9079",
   "metadata": {},
   "outputs": [
    {
     "data": {
      "image/png": "[encoded data removed]",
      "text/plain": [
       "<Figure size 432x288 with 1 Axes>"
      ]
     },
     "metadata": {
      "needs_background": "light"
     },
     "output_type": "display_data"
    }
   ],
   "source": [
    "plt.hist(small['views'],bins = 10,color = 'orange',orientation='vertical');"
   ]
  },
  {
   "cell_type": "markdown",
   "id": "ac5cf274",
   "metadata": {},
   "source": [
    "## Bar chart"
   ]
  },
  {
   "cell_type": "code",
   "execution_count": 32,
   "id": "33413267",
   "metadata": {},
   "outputs": [
    {
     "data": {
      "image/png": "[encoded data removed]",
      "text/plain": [
       "<Figure size 864x864 with 1 Axes>"
      ]
     },
     "metadata": {
      "needs_background": "light"
     },
     "output_type": "display_data"
    }
   ],
   "source": [
    "channels = pd.DataFrame(data['channel_title'].value_counts()[0:20])\n",
    "fig = plt.figure(figsize =(12, 12))\n",
    "plt.barh(channels.index.values,channels.channel_title)\n",
    "plt.xticks(rotation=90,size= 10)\n",
    "plt.show()"
   ]
  },
  {
   "cell_type": "code",
   "execution_count": null,
   "id": "5b434583",
   "metadata": {},
   "outputs": [],
   "source": []
  }
 ],
 "metadata": {
  "kernelspec": {
   "display_name": "Python 3",
   "language": "python",
   "name": "python3"
  },
  "language_info": {
   "codemirror_mode": {
    "name": "ipython",
    "version": 3
   },
   "file_extension": ".py",
   "mimetype": "text/x-python",
   "name": "python",
   "nbconvert_exporter": "python",
   "pygments_lexer": "ipython3",
   "version": "3.8.8"
  }
 },
 "nbformat": 4,
 "nbformat_minor": 5
}
