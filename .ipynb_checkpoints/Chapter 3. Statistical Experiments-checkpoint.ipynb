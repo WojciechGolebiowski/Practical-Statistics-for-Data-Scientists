{
 "cells": [
  {
   "cell_type": "markdown",
   "id": "de3cd572",
   "metadata": {},
   "source": [
    "## T test"
   ]
  },
  {
   "cell_type": "markdown",
   "id": "98a0d695",
   "metadata": {},
   "source": [
    "The t-test quantifies the difference between the arithmetic means of the two samples. \n",
    "The p-value quantifies the probability of observing as or more extreme values assuming the null hypothesis, \n",
    "that the samples are drawn from populations with the same population means, is true. A p-value larger \n",
    "than a chosen threshold (e.g. 5% or 1%) indicates that our observation is not so unlikely to have occurred by chance. \n",
    "Therefore, we do not reject the null hypothesis of equal population means. If the p-value is smaller than our threshold, \n",
    "then we have evidence against the null hypothesis of equal population means.\n",
    "*The p-value quantifies the probability of observing as or more extreme values assuming the null hypothesis*\n",
    "Jeśli więc mamy wysokie p-value to oznacza że dużo innych par prób osiągnęło róznice w średniej równą lub wyższą niż obserwowana w badanych próbach - to co zaobserwowaliśmy w próbach nie jest więc niczym wyjątkowym (zostajemy przy H0 - równe średnie)"
   ]
  },
  {
   "cell_type": "code",
   "execution_count": 11,
   "id": "f17b36c0",
   "metadata": {},
   "outputs": [
    {
     "data": {
      "text/plain": [
       "Ttest_indResult(statistic=-0.8757475210549339, pvalue=0.385103397290132)"
      ]
     },
     "execution_count": 11,
     "metadata": {},
     "output_type": "execute_result"
    }
   ],
   "source": [
    "from scipy import stats\n",
    "import numpy as np\n",
    "a = np.random.randn(40)\n",
    "b = 5*np.random.randn(50)\n",
    "stats.ttest_ind(a, b,equal_var=False)"
   ]
  },
  {
   "cell_type": "markdown",
   "id": "beb93fbd",
   "metadata": {},
   "source": [
    "## ANOVA"
   ]
  },
  {
   "cell_type": "markdown",
   "id": "eeee950e",
   "metadata": {},
   "source": [
    "Badanie istotności statystycznej różnic pomiędzy kilkoma grupami - ANOVA (Analiza Wariancji). Alternatywa dla porównań parami (w tym przypadku byłaby duża szansa na odkrycie zależności ktore tak naprawdę nie istnieją - błąd 1 rodzaju).\n",
    "Ogólne kroki:\n",
    "1. Połączenie danych w jeden zbiór\n",
    "2. Wymieszanie wartości i stworzenie noych X grup po n wartości w każdej\n",
    "3. Podliczenie średniej w każdej z grup\n",
    "4. Policzenie wariancji dla średnich w grupach\n",
    "5. Powtórzyć kroki 2-4 wiele razy\n",
    "Jak często wariancja przekroczyła obserwowaną wariancję? To p-wartość dla testu\n"
   ]
  },
  {
   "cell_type": "code",
   "execution_count": 1,
   "id": "1663ce03",
   "metadata": {},
   "outputs": [],
   "source": [
    "import pandas as pd\n",
    "import numpy as np\n",
    "df = pd.DataFrame(np.array([[5, 4, 7, 5], [2, 7, 6, 3], [2, 5, 8, 8],[1, 1, 11, 12],[4, 9, 15, 11]]),columns=['a', 'b', 'c', 'd'])\n",
    "df.reset_index(inplace=True)\n",
    "df = df.melt(id_vars = ['index'],value_vars = ['a', 'b', 'c', 'd'])\n",
    "df.columns = ['index','treatment','value']"
   ]
  },
  {
   "cell_type": "code",
   "execution_count": 2,
   "id": "073bd381",
   "metadata": {},
   "outputs": [
    {
     "data": {
      "image/png": "[encoded data removed]",
      "text/plain": [
       "<Figure size 432x288 with 1 Axes>"
      ]
     },
     "metadata": {
      "needs_background": "light"
     },
     "output_type": "display_data"
    }
   ],
   "source": [
    "import matplotlib.pyplot as plt\n",
    "import seaborn as sns\n",
    "ax = sns.boxplot(x='treatment', y='value', data=df, color='#99c2a2')\n",
    "ax = sns.swarmplot(x=\"treatment\", y=\"value\", data=df, color='#7d0013')\n",
    "plt.show()"
   ]
  },
  {
   "cell_type": "code",
   "execution_count": 3,
   "id": "1cf1b7ba",
   "metadata": {},
   "outputs": [
    {
     "data": {
      "text/html": [
       "<div>\n",
       "<style scoped>\n",
       "    .dataframe tbody tr th:only-of-type {\n",
       "        vertical-align: middle;\n",
       "    }\n",
       "\n",
       "    .dataframe tbody tr th {\n",
       "        vertical-align: top;\n",
       "    }\n",
       "\n",
       "    .dataframe thead th {\n",
       "        text-align: right;\n",
       "    }\n",
       "</style>\n",
       "<table border=\"1\" class=\"dataframe\">\n",
       "  <thead>\n",
       "    <tr style=\"text-align: right;\">\n",
       "      <th></th>\n",
       "      <th>df</th>\n",
       "      <th>sum_sq</th>\n",
       "      <th>mean_sq</th>\n",
       "      <th>F</th>\n",
       "      <th>PR(&gt;F)</th>\n",
       "    </tr>\n",
       "  </thead>\n",
       "  <tbody>\n",
       "    <tr>\n",
       "      <th>C(treatment)</th>\n",
       "      <td>3.0</td>\n",
       "      <td>126.6</td>\n",
       "      <td>42.200</td>\n",
       "      <td>4.230576</td>\n",
       "      <td>0.02214</td>\n",
       "    </tr>\n",
       "    <tr>\n",
       "      <th>Residual</th>\n",
       "      <td>16.0</td>\n",
       "      <td>159.6</td>\n",
       "      <td>9.975</td>\n",
       "      <td>NaN</td>\n",
       "      <td>NaN</td>\n",
       "    </tr>\n",
       "  </tbody>\n",
       "</table>\n",
       "</div>"
      ],
      "text/plain": [
       "                df  sum_sq  mean_sq         F   PR(>F)\n",
       "C(treatment)   3.0   126.6   42.200  4.230576  0.02214\n",
       "Residual      16.0   159.6    9.975       NaN      NaN"
      ]
     },
     "execution_count": 3,
     "metadata": {},
     "output_type": "execute_result"
    }
   ],
   "source": [
    "import statsmodels.api as sm\n",
    "from statsmodels.formula.api import ols\n",
    "# Ordinary Least Squares (OLS) model\n",
    "model = ols('value ~ C(treatment)', data=df).fit()\n",
    "anova_table = sm.stats.anova_lm(model)\n",
    "anova_table"
   ]
  },
  {
   "cell_type": "markdown",
   "id": "1bc7dc5e",
   "metadata": {},
   "source": [
    "df - stopnie swobody\n",
    "sum sq - suma błędów kwadratów\n",
    "mean_sq - odchylenia średniokwadratowe\n",
    "f - wartość statystyki F\n",
    "\n",
    "Treatment sum sq -> suma kwadratow roznic pomiedzy średnią grupy a średnią całkowitą\n",
    "Residual sum sq -> suma kadratow roznic pomiedzy obserwacja w grupie a średnią dla grupy.\n",
    "Mean sq to sum_sq / df\n",
    "\n",
    "1 przykład P value = 10.7% a więc przyjmujemy H0. Różnice mogą pochodzić głównie z przypadku.\n",
    "2 przykład P value = 2.2% przyjmujemy H1. Przynajmniej jeden ze sposobów leczenia ma średnią znacząco różną od pozostałych\n",
    "\n",
    "Bazując na Anova nie wiemy jednak która średnia znacząco rózni się od pozostałych. Żeby to sprawdzic trzeba wykonać dalsze kroki - porównania parami, test Tuckeya"
   ]
  },
  {
   "cell_type": "markdown",
   "id": "139b7d09",
   "metadata": {},
   "source": [
    "Test dla ANOVY bazuje na statystyce F (stosunek wariancji średnich w grupach do wariancji ze względu na błędy resztowe).\n",
    "Hipoteza zerowa - średnie w grupach są takie same\n",
    "Alternatywna - przynajmniej jedna średnia grupy różni się od pozostałych.\n"
   ]
  },
  {
   "cell_type": "markdown",
   "id": "63b051b5",
   "metadata": {},
   "source": [
    "## CHI SQUARE TEST"
   ]
  },
  {
   "cell_type": "markdown",
   "id": "1b23585f",
   "metadata": {},
   "source": [
    "Non parametric method to compare the relationship between two categoricl variables\n",
    "\n",
    "relies on approximation. Hence require large sample size. Expected frequency should not be < 5. \n",
    "If sample size is small Fisher exact test should be used"
   ]
  },
  {
   "cell_type": "markdown",
   "id": "54a7c0f0",
   "metadata": {},
   "source": [
    "H0: Two categorical variables are independent\n",
    "H1: Two categorical variables are dependent"
   ]
  },
  {
   "cell_type": "code",
   "execution_count": 2,
   "id": "507b6434",
   "metadata": {},
   "outputs": [],
   "source": [
    "import numpy as np\n",
    "from scipy.stats import chi2_contingency\n",
    "observed = np.array([[20,50],[31,33]])"
   ]
  },
  {
   "cell_type": "code",
   "execution_count": 6,
   "id": "9236f58d",
   "metadata": {},
   "outputs": [],
   "source": [
    "chi_stat,p_val,dof,expected = chi2_contingency(observed)"
   ]
  },
  {
   "cell_type": "code",
   "execution_count": 5,
   "id": "99d4a6f8",
   "metadata": {},
   "outputs": [],
   "source": [
    "#without Yates correction for continuity\n",
    "chi_stat,p_val,dof,expected = chi2_contingency(observed,correction=False)"
   ]
  },
  {
   "cell_type": "code",
   "execution_count": 7,
   "id": "148c2487",
   "metadata": {},
   "outputs": [
    {
     "data": {
      "text/plain": [
       "0.028690975076064325"
      ]
     },
     "execution_count": 7,
     "metadata": {},
     "output_type": "execute_result"
    }
   ],
   "source": [
    "p_val"
   ]
  },
  {
   "cell_type": "markdown",
   "id": "a8ab7d9c",
   "metadata": {},
   "source": [
    "significant p-value -> we conclude that there is significant association between categorical variables"
   ]
  },
  {
   "cell_type": "code",
   "execution_count": 8,
   "id": "8baf8345",
   "metadata": {},
   "outputs": [
    {
     "data": {
      "text/plain": [
       "array([[26.64179104, 43.35820896],\n",
       "       [24.35820896, 39.64179104]])"
      ]
     },
     "execution_count": 8,
     "metadata": {},
     "output_type": "execute_result"
    }
   ],
   "source": [
    "expected"
   ]
  },
  {
   "cell_type": "markdown",
   "id": "45ffdb00",
   "metadata": {},
   "source": [
    "## FISHER EXACT TEST"
   ]
  },
  {
   "cell_type": "markdown",
   "id": "f4f7349d",
   "metadata": {},
   "source": [
    "Testing the association between the two independent categorical variables. \n",
    "\n",
    "H0: No association between two categorical variables\n",
    "\n",
    "H1: There is an association between two categorical variables\n",
    "    \n",
    "Chi-square gices approximate pvalue and Fisher gives exact p-value."
   ]
  },
  {
   "cell_type": "code",
   "execution_count": 10,
   "id": "e2c9af85",
   "metadata": {},
   "outputs": [
    {
     "data": {
      "text/html": [
       "<div>\n",
       "<style scoped>\n",
       "    .dataframe tbody tr th:only-of-type {\n",
       "        vertical-align: middle;\n",
       "    }\n",
       "\n",
       "    .dataframe tbody tr th {\n",
       "        vertical-align: top;\n",
       "    }\n",
       "\n",
       "    .dataframe thead th {\n",
       "        text-align: right;\n",
       "    }\n",
       "</style>\n",
       "<table border=\"1\" class=\"dataframe\">\n",
       "  <thead>\n",
       "    <tr style=\"text-align: right;\">\n",
       "      <th></th>\n",
       "      <th>drug A</th>\n",
       "      <th>drug B</th>\n",
       "    </tr>\n",
       "  </thead>\n",
       "  <tbody>\n",
       "    <tr>\n",
       "      <th>no disease</th>\n",
       "      <td>70</td>\n",
       "      <td>40</td>\n",
       "    </tr>\n",
       "    <tr>\n",
       "      <th>disease</th>\n",
       "      <td>40</td>\n",
       "      <td>55</td>\n",
       "    </tr>\n",
       "  </tbody>\n",
       "</table>\n",
       "</div>"
      ],
      "text/plain": [
       "            drug A  drug B\n",
       "no disease      70      40\n",
       "disease         40      55"
      ]
     },
     "execution_count": 10,
     "metadata": {},
     "output_type": "execute_result"
    }
   ],
   "source": [
    "import pandas as pd\n",
    "treat = pd.DataFrame({'drug A':[70,40],'drug B':[40,55]},index=pd.Index(['no disease','disease']))\n",
    "treat"
   ]
  },
  {
   "cell_type": "code",
   "execution_count": 12,
   "id": "7bebfe41",
   "metadata": {},
   "outputs": [
    {
     "data": {
      "text/plain": [
       "(2.40625, 0.003087959769108495)"
      ]
     },
     "execution_count": 12,
     "metadata": {},
     "output_type": "execute_result"
    }
   ],
   "source": [
    "from scipy.stats import fisher_exact\n",
    "oddsr, p_val = fisher_exact(table=treat.to_numpy(), alternative='two-sided')\n",
    "oddsr, p_val"
   ]
  },
  {
   "cell_type": "markdown",
   "id": "3ab43335",
   "metadata": {},
   "source": [
    "p-value statistically significant - we reject H0. \n",
    "There is a significant association between drug treatment and disease status\n",
    "\n",
    "Odds Ratio - odds of getting no disease while on drug treatment is 2.4 times that of getting the disease. \n",
    "Someone not taking drugs is more likely to have a disease than a person who takes drugs"
   ]
  },
  {
   "cell_type": "code",
   "execution_count": null,
   "id": "812e6d39",
   "metadata": {},
   "outputs": [],
   "source": []
  }
 ],
 "metadata": {
  "kernelspec": {
   "display_name": "Python 3",
   "language": "python",
   "name": "python3"
  },
  "language_info": {
   "codemirror_mode": {
    "name": "ipython",
    "version": 3
   },
   "file_extension": ".py",
   "mimetype": "text/x-python",
   "name": "python",
   "nbconvert_exporter": "python",
   "pygments_lexer": "ipython3",
   "version": "3.8.8"
  }
 },
 "nbformat": 4,
 "nbformat_minor": 5
}
