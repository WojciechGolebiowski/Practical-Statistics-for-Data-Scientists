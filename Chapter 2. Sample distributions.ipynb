{
 "cells": [
  {
   "cell_type": "markdown",
   "id": "4b8cda43",
   "metadata": {},
   "source": [
    "## Implementacja Bootstrapu"
   ]
  },
  {
   "cell_type": "code",
   "execution_count": 8,
   "id": "99026fb1",
   "metadata": {},
   "outputs": [],
   "source": [
    "from sklearn.utils import resample\n",
    "import pandas as pd"
   ]
  },
  {
   "cell_type": "code",
   "execution_count": 11,
   "id": "34427cca",
   "metadata": {},
   "outputs": [
    {
     "data": {
      "text/plain": [
       "(19239, 60)"
      ]
     },
     "execution_count": 11,
     "metadata": {},
     "output_type": "execute_result"
    }
   ],
   "source": [
    "fifa = pd.read_csv('fifa22.csv')\n",
    "fifa.drop(labels = ['club_jersey_number', 'club_loaned_from','nation_team_id', 'nation_position', 'nation_jersey_number',\n",
    "       'league_name', 'league_level', 'club_position','ls', 'st', 'rs', 'lw', 'lf', 'cf', 'rf',\n",
    "       'rw', 'lam', 'cam', 'ram', 'lm', 'lcm', 'cm', 'rcm', 'rm', 'lwb', 'nationality_id', 'club_joined',\n",
    "       'ldm', 'cdm', 'rdm', 'rwb', 'lb', 'lcb', 'cb', 'rcb', 'rb', 'gk', 'dob', 'club_team_id', 'real_face',\n",
    "       'sofifa_id', 'player_url','player_face_url', 'club_logo_url', 'club_flag_url', 'player_tags','player_traits',\n",
    "       'nation_logo_url', 'nation_flag_url','international_reputation'],axis = 1,inplace = True)\n",
    "fifa.shape"
   ]
  },
  {
   "cell_type": "code",
   "execution_count": 37,
   "id": "e388f769",
   "metadata": {},
   "outputs": [
    {
     "name": "stdout",
     "output_type": "stream",
     "text": [
      "Statystyki bootstrapowe:\n",
      "Pierwotnie: 66.0\n",
      "Obciążenie: -0.2535000000000025\n",
      "Błąd standardowy: 0.4303172352148186\n"
     ]
    }
   ],
   "source": [
    "#Błąd standardowy - bada zmienność w rozkładzie próbkowania statystyk\n",
    "rezultaty = []\n",
    "for npowt in range(1000):\n",
    "    probka = resample(fifa,n_samples=1000)\n",
    "    rezultaty.append(probka.overall.median())\n",
    "rezultaty = pd.Series(rezultaty)\n",
    "print('Statystyki bootstrapowe:')\n",
    "print('Pierwotnie: ' + str(fifa.overall.median()))\n",
    "print('Obciążenie: ' + str(rezultaty.mean() - fifa.overall.median()))\n",
    "print('Błąd standardowy: ' + str(rezultaty.std())) #wraz ze wzrostem próby błąd standardowy maleje, spada też obiążenie"
   ]
  },
  {
   "cell_type": "markdown",
   "id": "180bdf52",
   "metadata": {},
   "source": [
    "## Przedział ufności dla boostrapowej próby"
   ]
  },
  {
   "cell_type": "code",
   "execution_count": 59,
   "id": "936c6ca1",
   "metadata": {},
   "outputs": [
    {
     "name": "stdout",
     "output_type": "stream",
     "text": [
      "90 % przedział ufności: (65.0:66.0)\n"
     ]
    }
   ],
   "source": [
    "rezultaty2 = []\n",
    "poziom_istotnosci = 0.05 #level of confidence\n",
    "for npowt in range(1000):\n",
    "    probka = resample(fifa,n_samples=1000)\n",
    "    rezultaty2.append(probka.overall.median())\n",
    "rezultaty2 = pd.Series(rezultaty2)\n",
    "rezultaty2.sort_values(inplace=True)\n",
    "rezultaty2.drop(rezultaty2.nsmallest(int(poziom_istotnosci*rezultaty2.shape[0])).index,inplace=True)\n",
    "rezultaty2.drop(rezultaty2.nlargest(int(poziom_istotnosci*rezultaty2.shape[0])).index,inplace=True)\n",
    "print(\"90 % przedział ufności: (\" + str(rezultaty2.min()) + \":\" + str(rezultaty2.max()) + \")\")"
   ]
  },
  {
   "cell_type": "markdown",
   "id": "247d1699",
   "metadata": {},
   "source": [
    "## Rozkład normalny - wykres K-K"
   ]
  },
  {
   "cell_type": "code",
   "execution_count": 71,
   "id": "fd26c849",
   "metadata": {},
   "outputs": [],
   "source": [
    "from scipy import stats\n",
    "import matplotlib.pyplot as plt"
   ]
  },
  {
   "cell_type": "code",
   "execution_count": 72,
   "id": "a10da01c",
   "metadata": {},
   "outputs": [
    {
     "data": {
      "image/png": "[encoded data removed]",
      "text/plain": [
       "<Figure size 432x432 with 1 Axes>"
      ]
     },
     "metadata": {
      "needs_background": "light"
     },
     "output_type": "display_data"
    }
   ],
   "source": [
    "fig,ax = plt.subplots(figsize = (6,6))\n",
    "norm_sample = stats.norm.rvs(size=100)\n",
    "stats.probplot(norm_sample, plot=ax); \n",
    "#Wygenerowanie 100 wartości z rozkładu normalnego i rozrysowanie wykresu K-K. Jak widać punkty układają się w linię"
   ]
  },
  {
   "cell_type": "code",
   "execution_count": 2,
   "id": "34bb53f9",
   "metadata": {},
   "outputs": [
    {
     "name": "stdout",
     "output_type": "stream",
     "text": [
      "0.0729\n",
      "0.99144\n"
     ]
    }
   ],
   "source": [
    "# Binarny - PDF , CDF\n",
    "from scipy import stats\n",
    "print(stats.binom.pmf(2,n=5,p=0.1)) # p-o 2 sukcesów w próbie wielkości 5 gdzie p-o sukesu wynosi 0.1\n",
    "print(stats.binom.cdf(2,n=5,p=0.1)) # p-o skumulowane że sukesów będzie dokładnie 2 lub mniej"
   ]
  },
  {
   "cell_type": "code",
   "execution_count": 3,
   "id": "5b54439b",
   "metadata": {},
   "outputs": [
    {
     "data": {
      "text/plain": [
       "array([3, 5, 3, 2, 3, 3, 1, 1, 1, 1, 1, 0, 3, 1, 3, 2, 0, 1, 1, 0, 6, 1,\n",
       "       2, 2, 2, 1, 2, 1, 1, 0, 1, 1, 1, 6, 3, 1, 4, 2, 0, 4, 0, 1, 4, 3,\n",
       "       5, 2, 1, 2, 3, 1, 2, 1, 3, 1, 3, 2, 0, 2, 2, 1, 0, 4, 5, 3, 1, 5,\n",
       "       0, 0, 2, 4, 0, 4, 1, 1, 1, 1, 1, 1, 5, 2, 0, 3, 7, 2, 3, 3, 1, 1,\n",
       "       1, 2, 0, 2, 3, 4, 1, 3, 3, 3, 1, 1])"
      ]
     },
     "execution_count": 3,
     "metadata": {},
     "output_type": "execute_result"
    }
   ],
   "source": [
    "# Losowe generowanie liczb - Poisson, Exponential, Weibull\n",
    "stats.poisson.rvs(2,size= 100)#generowanie 100 liczb z roz.Poissona(lambda = 2)"
   ]
  },
  {
   "cell_type": "code",
   "execution_count": 4,
   "id": "52144afe",
   "metadata": {},
   "outputs": [
    {
     "data": {
      "text/plain": [
       "array([0.61520688, 2.47711116, 0.92967399, 0.38549022, 2.56345207,\n",
       "       0.92220679, 0.63127129, 0.21567228, 0.92429662, 2.45146199,\n",
       "       0.26129596, 0.8257375 , 1.10527157, 0.79650865, 1.1909251 ,\n",
       "       1.24270442, 0.30320078, 1.86945562, 0.89765866, 1.62368082,\n",
       "       1.34674966, 1.23320173, 1.73572937, 1.53337931, 0.29377436,\n",
       "       0.56641864, 2.79202371, 0.67682317, 0.58266356, 1.51360999,\n",
       "       0.98516976, 0.38009945, 1.06419869, 1.11705327, 1.30508897,\n",
       "       3.08178848, 0.31475747, 0.54268411, 0.41960383, 1.02172112,\n",
       "       1.448625  , 0.32142805, 2.16996346, 0.86501313, 0.59280457,\n",
       "       1.98836343, 0.27912176, 1.02783702, 0.95562706, 0.46152997,\n",
       "       0.7457425 , 1.2112236 , 0.31591088, 1.73244536, 4.33607507,\n",
       "       2.51531911, 1.1525485 , 1.70163604, 1.75517453, 0.409257  ,\n",
       "       0.43403418, 2.11052217, 0.54969691, 0.45424289, 0.82007916,\n",
       "       1.85016868, 1.00698581, 2.71015353, 3.35993643, 2.89803276,\n",
       "       0.37049723, 1.09220752, 0.48985033, 1.0428441 , 0.39037046,\n",
       "       0.971882  , 1.1166715 , 0.46968197, 2.2005389 , 0.27034428,\n",
       "       0.97454266, 0.8130179 , 0.94883868, 0.76764462, 0.214927  ,\n",
       "       0.22789329, 0.80930278, 3.40717905, 0.29428732, 1.1267535 ,\n",
       "       0.84081191, 1.37958736, 3.94449474, 0.87541622, 0.86808326,\n",
       "       0.68799004, 0.59237475, 2.2863638 , 0.22707378, 1.38045432])"
      ]
     },
     "execution_count": 4,
     "metadata": {},
     "output_type": "execute_result"
    }
   ],
   "source": [
    "stats.expon.rvs(0.2,size= 100)#generowanie 100 liczb z roz.wykladniczego(lambda = 2)"
   ]
  },
  {
   "cell_type": "code",
   "execution_count": 5,
   "id": "a7c266ca",
   "metadata": {},
   "outputs": [
    {
     "data": {
      "text/plain": [
       "array([ 4107.67120607,  1185.11729589,  3994.75377497,  2743.68192385,\n",
       "         964.09645897,  3239.31040111,  4854.63167924,  8235.24301569,\n",
       "       11038.215262  ,  6224.80078556,  3061.36064518,   450.99105394,\n",
       "        5770.43333661,  1222.65311685,  4557.98014279,  7389.44878961,\n",
       "         379.28626137,  3989.63687043,  3848.2262423 ,  4518.91661472,\n",
       "        3024.66253521,  3335.29898052,  8697.19169566,  2683.69822937,\n",
       "        2969.11668015,  6025.78100528,  5751.39618355,  1624.39015836,\n",
       "        4597.8405753 ,   927.66914725,  7127.02991678,  1206.8759744 ,\n",
       "        1472.44214702,  6248.89693912,  4425.80620464,  5836.63902803,\n",
       "        6775.49439192,   683.77758114,  9652.26825312,  7904.2637735 ,\n",
       "        4763.38351293,  3250.45369724,  5654.10379305,  7048.99359253,\n",
       "       10285.0155843 ,  3684.29013226,  7252.56681516,  4963.47262847,\n",
       "        6733.45874689,  9868.16766468,  2881.62179672,  2943.30086983,\n",
       "        1273.26411091, 12347.39993731,  3549.30402809,  1555.38376655,\n",
       "          29.82892749,  8846.74420457,  6652.5779704 ,  3469.78670927,\n",
       "        8914.6562413 ,  5620.37275623,  2573.73315746,  6371.43509079,\n",
       "        1689.30437771,  1319.64220186,  8756.41255124,  2855.99814384,\n",
       "         195.2770965 ,  9454.68320895,  2299.21740754,   481.24505665,\n",
       "        2872.64554553,  1343.78251772,  1094.9033322 ,   569.40363462,\n",
       "        3919.24637006,  8640.96754234,  2593.99760203,  3110.44701805,\n",
       "        5620.9186234 ,   790.01393238,  3855.77712725,  9331.44291791,\n",
       "        3983.8544722 ,  4845.62419059,  4191.38350455,  3171.92205553,\n",
       "        5162.03482556,  3980.12544996,  2141.56019668, 10351.04781213,\n",
       "         266.74233964,  3937.09654865,  1326.81945169,   842.44960148,\n",
       "       10410.08838424,  5049.99867539,  1748.60781512,  1634.25964659])"
      ]
     },
     "execution_count": 5,
     "metadata": {},
     "output_type": "execute_result"
    }
   ],
   "source": [
    "stats.weibull_min.rvs(1.5,scale = 5000,size = 100)\n",
    "#generowanie 100 liczb z roz.weibulla parametr beta 1.5 (czyli p-o wystapienia zdarzenia rosnie w czasie)"
   ]
  }
 ],
 "metadata": {
  "kernelspec": {
   "display_name": "Python 3",
   "language": "python",
   "name": "python3"
  },
  "language_info": {
   "codemirror_mode": {
    "name": "ipython",
    "version": 3
   },
   "file_extension": ".py",
   "mimetype": "text/x-python",
   "name": "python",
   "nbconvert_exporter": "python",
   "pygments_lexer": "ipython3",
   "version": "3.8.8"
  }
 },
 "nbformat": 4,
 "nbformat_minor": 5
}
